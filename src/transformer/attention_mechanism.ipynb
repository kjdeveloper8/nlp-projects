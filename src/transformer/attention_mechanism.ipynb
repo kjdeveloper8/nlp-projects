{
 "cells": [
  {
   "cell_type": "markdown",
   "id": "1d90f78f-773f-4a63-b266-6e2560be68ca",
   "metadata": {},
   "source": [
    "## Attention Mechanism\n",
    "\n",
    "This notebook is for understanding basic working of attention mechanism. \n",
    "\n",
    "For more detail see: [d2l.ai: Attention Mechanism](https://d2l.ai/chapter_attention-mechanisms-and-transformers/index.html).\n"
   ]
  },
  {
   "cell_type": "code",
   "execution_count": 2,
   "id": "5fa5e3bb-9385-4e0d-a489-74959f997cf4",
   "metadata": {},
   "outputs": [],
   "source": [
    "import math\n",
    "import torch\n",
    "from torch import nn\n",
    "import numpy as np"
   ]
  },
  {
   "cell_type": "markdown",
   "id": "940e2627-9694-46d4-8220-34c6df5849b8",
   "metadata": {},
   "source": [
    "#### Basic Dot product"
   ]
  },
  {
   "cell_type": "code",
   "execution_count": 3,
   "id": "413be478-2b8a-4027-81d1-382292c80af5",
   "metadata": {},
   "outputs": [],
   "source": [
    "# 2-D arrays \n",
    "a = [[2, 1], [0, 3]]\n",
    "b = [[1, 1], [3, 2]]"
   ]
  },
  {
   "cell_type": "code",
   "execution_count": 4,
   "id": "4dd4d000-d2ef-47fc-bee1-51d406ad8059",
   "metadata": {},
   "outputs": [
    {
     "name": "stdout",
     "output_type": "stream",
     "text": [
      "[[2 4]\n",
      " [6 9]]\n"
     ]
    }
   ],
   "source": [
    "# using numpy\n",
    "print(np.dot(b, a))"
   ]
  },
  {
   "cell_type": "markdown",
   "id": "9fc3164b-30bc-4841-a4aa-14cefe564457",
   "metadata": {},
   "source": [
    "#### Masked Softmax Operation\n",
    "\n",
    "In decoder to hide the irrelevant future token we will use masking and for that we sets the attention weights to ${-\\infty}$ or a large negative number, such as ${10}^{-6}$ in order to make their contribution to gradients and values vanish in practice. "
   ]
  },
  {
   "cell_type": "code",
   "execution_count": 9,
   "id": "afa150e0-506a-4852-b394-8a904dd9e4d9",
   "metadata": {},
   "outputs": [],
   "source": [
    "def masked_softmax(X, valid_lens): \n",
    "    \"\"\"Perform softmax operation by masking elements on the last axis.\n",
    "        X: 3D tensor\n",
    "        valid_lens: 1D or 2D tensor\n",
    "    \"\"\"\n",
    "    def _sequence_mask(X, valid_len, value=0):\n",
    "        maxlen = X.size(1)\n",
    "        mask = torch.arange((maxlen), dtype=torch.float32,\n",
    "                            device=X.device)[None, :] < valid_len[:, None]\n",
    "        X[~mask] = value\n",
    "        return X\n",
    "\n",
    "    if valid_lens is None:\n",
    "        return nn.functional.softmax(X, dim=-1)\n",
    "    else:\n",
    "        shape = X.shape\n",
    "        if valid_lens.dim() == 1:\n",
    "            valid_lens = torch.repeat_interleave(valid_lens, shape[1])\n",
    "        else:\n",
    "            valid_lens = valid_lens.reshape(-1)\n",
    "        # replace masked value with larger negative number\n",
    "        X = _sequence_mask(X.reshape(-1, shape[-1]), valid_lens, value=-1e6)\n",
    "        return nn.functional.softmax(X.reshape(shape), dim=-1)"
   ]
  },
  {
   "cell_type": "code",
   "execution_count": 13,
   "id": "a722917f-0e89-4fd9-982e-96200d732465",
   "metadata": {},
   "outputs": [
    {
     "data": {
      "text/plain": [
       "tensor([[[0.2198, 0.1493, 0.3208, 0.3101],\n",
       "         [0.2641, 0.2647, 0.3257, 0.1456]],\n",
       "\n",
       "        [[0.3749, 0.3579, 0.2672, 0.0000],\n",
       "         [0.3174, 0.3348, 0.3478, 0.0000]]])"
      ]
     },
     "execution_count": 13,
     "metadata": {},
     "output_type": "execute_result"
    }
   ],
   "source": [
    "masked_softmax(torch.rand(2, 2, 4), torch.tensor([10, 3]))"
   ]
  },
  {
   "cell_type": "code",
   "execution_count": 33,
   "id": "bd85fc66-043c-4871-bcc3-44dc407257e0",
   "metadata": {},
   "outputs": [
    {
     "data": {
      "text/plain": [
       "tensor([[ 5.5435,    -inf,    -inf,    -inf,    -inf,    -inf,    -inf,    -inf],\n",
       "        [-1.9945, -2.3841,    -inf,    -inf,    -inf,    -inf,    -inf,    -inf],\n",
       "        [-2.7988,  6.1758, -0.5152,    -inf,    -inf,    -inf,    -inf,    -inf],\n",
       "        [-0.2541,  4.2728,  5.1140,  2.6404,    -inf,    -inf,    -inf,    -inf],\n",
       "        [-3.3069,  4.1959, -0.6251,  1.0532,  9.6227,    -inf,    -inf,    -inf],\n",
       "        [-0.9322,  5.9977, -3.3811, -4.1619, -2.0562, -2.1841,    -inf,    -inf],\n",
       "        [ 0.0433,  7.0470,  7.0112,  5.1304,  5.2648,  6.4876,  0.8544,    -inf],\n",
       "        [ 5.1793, -1.9175, -0.7140,  1.9007,  3.6249,  1.4243, -0.3554, -2.6618]])"
      ]
     },
     "execution_count": 33,
     "metadata": {},
     "output_type": "execute_result"
    }
   ],
   "source": [
    "# with -inf\n",
    "tril = torch.tril(torch.ones(T, T))\n",
    "wei = wei.masked_fill(tril == 0, float('-inf'))\n",
    "wei[0]"
   ]
  },
  {
   "cell_type": "code",
   "execution_count": 34,
   "id": "78f44ff2-ee29-4515-be37-6504a093091f",
   "metadata": {},
   "outputs": [
    {
     "data": {
      "text/plain": [
       "tensor([[1.0000e+00, 0.0000e+00, 0.0000e+00, 0.0000e+00, 0.0000e+00, 0.0000e+00,\n",
       "         0.0000e+00, 0.0000e+00],\n",
       "        [5.9619e-01, 4.0381e-01, 0.0000e+00, 0.0000e+00, 0.0000e+00, 0.0000e+00,\n",
       "         0.0000e+00, 0.0000e+00],\n",
       "        [1.2642e-04, 9.9863e-01, 1.2404e-03, 0.0000e+00, 0.0000e+00, 0.0000e+00,\n",
       "         0.0000e+00, 0.0000e+00],\n",
       "        [3.0675e-03, 2.8367e-01, 6.5782e-01, 5.5444e-02, 0.0000e+00, 0.0000e+00,\n",
       "         0.0000e+00, 0.0000e+00],\n",
       "        [2.4140e-06, 4.3768e-03, 3.5272e-05, 1.8893e-04, 9.9540e-01, 0.0000e+00,\n",
       "         0.0000e+00, 0.0000e+00],\n",
       "        [9.7646e-04, 9.9830e-01, 8.4359e-05, 3.8637e-05, 3.1733e-04, 2.7922e-04,\n",
       "         0.0000e+00, 0.0000e+00],\n",
       "        [3.1824e-04, 3.5029e-01, 3.3799e-01, 5.1530e-02, 5.8941e-02, 2.0021e-01,\n",
       "         7.1617e-04, 0.0000e+00],\n",
       "        [7.8106e-01, 6.4647e-04, 2.1539e-03, 2.9429e-02, 1.6505e-01, 1.8277e-02,\n",
       "         3.0830e-03, 3.0713e-04]])"
      ]
     },
     "execution_count": 34,
     "metadata": {},
     "output_type": "execute_result"
    }
   ],
   "source": [
    "# apply Softmax\n",
    "wei = F.softmax(wei, dim=-1)\n",
    "wei[0]"
   ]
  },
  {
   "cell_type": "markdown",
   "id": "d0dc01a9-b13a-4d73-80a1-b8478eb89527",
   "metadata": {},
   "source": [
    "#### Matrix Multiplication"
   ]
  },
  {
   "cell_type": "code",
   "execution_count": 46,
   "id": "bf730580-0bb1-4db6-a269-56eaa6fc5ca3",
   "metadata": {},
   "outputs": [
    {
     "name": "stdout",
     "output_type": "stream",
     "text": [
      "a=tensor([[3, 3, 0],\n",
      "        [3, 0, 0]])\n",
      "b=tensor([[4, 5],\n",
      "        [0, 2],\n",
      "        [4, 5]])\n",
      "\n",
      "c=tensor([[12, 21],\n",
      "        [12, 15]])\n"
     ]
    }
   ],
   "source": [
    "a = torch.randint(0, 4,(2,3))\n",
    "b = torch.randint(0, 6,(3,2))\n",
    "c = a @ b\n",
    "\n",
    "print(f\"{a=}\")\n",
    "print(f\"{b=}\") \n",
    "print() \n",
    "print(f\"{c=}\")"
   ]
  },
  {
   "cell_type": "markdown",
   "id": "3eb6077f-12ac-4b08-891c-5b5ee54839ea",
   "metadata": {},
   "source": [
    "#### Self attention with scaled dot product\n",
    "\n",
    "- Shape of queries: (batch_size, n_queries, dim) (here n: number of)\n",
    "- Shape of keys: (batch_size, n_key-value, d)\n",
    "- Shape of values: (batch_size, n_key-value, value_dim)\n",
    "- Shape of valid_lens: (batch_size,) or (batch_size, n_queries)"
   ]
  },
  {
   "cell_type": "code",
   "execution_count": 76,
   "id": "1c343656-07fd-422a-be43-acb9378cd2c7",
   "metadata": {},
   "outputs": [],
   "source": [
    "class Attention(nn.Module): \n",
    "    \"\"\"Basic scaled dot product attention.\"\"\"\n",
    "    def __init__(self, dropout):\n",
    "        super().__init__()\n",
    "        self.dropout = nn.Dropout(dropout)\n",
    "\n",
    "    def forward(self, queries, keys, values, valid_lens=None):\n",
    "        d = queries.shape[-1]\n",
    "        # Swap the last two dimensions of keys with keys.transpose(1, 2)\n",
    "        scores = torch.bmm(queries, keys.transpose(1, 2)) / math.sqrt(d)\n",
    "        self.attention_weights = masked_softmax(scores, valid_lens)\n",
    "        return torch.bmm(self.dropout(self.attention_weights), values)"
   ]
  },
  {
   "cell_type": "code",
   "execution_count": 77,
   "id": "41eb06fb-2a39-45e5-b523-d41000426af8",
   "metadata": {},
   "outputs": [],
   "source": [
    "def check_shape(a, shape):\n",
    "    assert a.shape == shape, f'tensor\\'s shape {a.shape} != expected shape {shape}'"
   ]
  },
  {
   "cell_type": "code",
   "execution_count": 78,
   "id": "492e24c5-1391-4801-9c10-643c577276b8",
   "metadata": {},
   "outputs": [
    {
     "data": {
      "text/plain": [
       "Attention(\n",
       "  (dropout): Dropout(p=0.5, inplace=False)\n",
       ")"
      ]
     },
     "execution_count": 78,
     "metadata": {},
     "output_type": "execute_result"
    }
   ],
   "source": [
    "queries = torch.normal(0, 1, (2, 1, 2))\n",
    "keys = torch.normal(0, 1, (2, 10, 2))\n",
    "values = torch.normal(0, 1, (2, 10, 4))\n",
    "valid_lens = torch.tensor([2, 6])\n",
    "\n",
    "attention = Attention(dropout=0.5)\n",
    "attention.eval()"
   ]
  },
  {
   "cell_type": "code",
   "execution_count": 79,
   "id": "ebf4e534-7cff-4766-85d4-4790c60f27b9",
   "metadata": {},
   "outputs": [],
   "source": [
    "check_shape(attention(queries, keys, values, valid_lens), (2, 1, 4))"
   ]
  },
  {
   "cell_type": "code",
   "execution_count": 74,
   "id": "530f1386-46ff-469a-94c3-4b83d9fe0e20",
   "metadata": {},
   "outputs": [],
   "source": [
    "import seaborn as sns"
   ]
  },
  {
   "cell_type": "code",
   "execution_count": 85,
   "id": "09c40d85-440d-44ee-9629-bed1ac21439b",
   "metadata": {},
   "outputs": [
    {
     "data": {
      "text/plain": [
       "torch.Size([2, 1, 10])"
      ]
     },
     "execution_count": 85,
     "metadata": {},
     "output_type": "execute_result"
    }
   ],
   "source": [
    "attention.attention_weights.shape "
   ]
  },
  {
   "cell_type": "code",
   "execution_count": 86,
   "id": "a3ce3b73-7284-45ef-83d5-118f7267c9d8",
   "metadata": {},
   "outputs": [
    {
     "data": {
      "text/plain": [
       "tensor([[[0.3719, 0.6281, 0.0000, 0.0000, 0.0000, 0.0000, 0.0000, 0.0000,\n",
       "          0.0000, 0.0000]],\n",
       "\n",
       "        [[0.1047, 0.1919, 0.1425, 0.2376, 0.1619, 0.1615, 0.0000, 0.0000,\n",
       "          0.0000, 0.0000]]])"
      ]
     },
     "execution_count": 86,
     "metadata": {},
     "output_type": "execute_result"
    }
   ],
   "source": [
    "attention.attention_weights"
   ]
  },
  {
   "cell_type": "code",
   "execution_count": 89,
   "id": "67a7bf03-564f-4b8c-903a-a1ee019981cc",
   "metadata": {},
   "outputs": [
    {
     "data": {
      "text/plain": [
       "tensor([[0.3719, 0.6281, 0.0000, 0.0000, 0.0000, 0.0000, 0.0000, 0.0000, 0.0000,\n",
       "         0.0000],\n",
       "        [0.1047, 0.1919, 0.1425, 0.2376, 0.1619, 0.1615, 0.0000, 0.0000, 0.0000,\n",
       "         0.0000]])"
      ]
     },
     "execution_count": 89,
     "metadata": {},
     "output_type": "execute_result"
    }
   ],
   "source": [
    "attention.attention_weights.reshape(2, -1) # 2d"
   ]
  },
  {
   "cell_type": "code",
   "execution_count": 91,
   "id": "5bec341a-393b-4615-bef0-1b504aa32c00",
   "metadata": {},
   "outputs": [
    {
     "data": {
      "text/plain": [
       "<Axes: >"
      ]
     },
     "execution_count": 91,
     "metadata": {},
     "output_type": "execute_result"
    },
    {
     "data": {
      "image/png": "[encoded data removed]",
      "text/plain": [
       "<Figure size 640x480 with 2 Axes>"
      ]
     },
     "metadata": {},
     "output_type": "display_data"
    }
   ],
   "source": [
    "# plot heatmap\n",
    "sns.heatmap(attention.attention_weights.reshape(2, -1), annot=True)"
   ]
  },
  {
   "cell_type": "markdown",
   "id": "e7ac3519-dc70-4f78-a5b3-30b212c6363d",
   "metadata": {},
   "source": [
    "#### Multihead Attention"
   ]
  },
  {
   "cell_type": "code",
   "execution_count": 54,
   "id": "64ba4be1-0353-4861-8372-7d596f38fbf6",
   "metadata": {},
   "outputs": [],
   "source": [
    "class MultiHeadAttention(nn.Module):\n",
    "    \"\"\"Multi-head attention.\"\"\"\n",
    "    def __init__(self, num_hiddens, num_heads, dropout, bias=False, **kwargs):\n",
    "        super().__init__()\n",
    "        self.num_heads = num_heads\n",
    "        self.attention = Attention(dropout)\n",
    "        # As we want to initialize weights later on therefore \n",
    "        # use Lazy version to initialized the weights based on \n",
    "        # shape of queries and key-val pairs after first forward call\n",
    "        self.W_q = nn.LazyLinear(num_hiddens, bias=bias)\n",
    "        self.W_k = nn.LazyLinear(num_hiddens, bias=bias)\n",
    "        self.W_v = nn.LazyLinear(num_hiddens, bias=bias)\n",
    "        self.W_o = nn.LazyLinear(num_hiddens, bias=bias)\n",
    "\n",
    "    def forward(self, queries, keys, values, valid_lens):\n",
    "        # After transposing, shape of output:\n",
    "        # (batch_size * num_heads, n_queries or n_key-value, num_hiddens / num_heads)\n",
    "        \n",
    "        queries = self.transpose_qkv(self.W_q(queries))\n",
    "        keys = self.transpose_qkv(self.W_k(keys))\n",
    "        values = self.transpose_qkv(self.W_v(values))\n",
    "\n",
    "        if valid_lens is not None:\n",
    "            # On axis 0, copy the first item (scalar or vector) for num_heads\n",
    "            # times, then copy the next item, and so on\n",
    "            valid_lens = torch.repeat_interleave(\n",
    "                valid_lens, repeats=self.num_heads, dim=0)\n",
    "\n",
    "        # Shape of output: (batch_size * num_heads, n_queries, num_hiddens / num_heads)\n",
    "        output = self.attention(queries, keys, values, valid_lens)\n",
    "        \n",
    "        # Shape of output_concat: (batch_size, n_queries, num_hiddens)\n",
    "        output_concat = self.transpose_output(output)\n",
    "        return self.W_o(output_concat)"
   ]
  },
  {
   "cell_type": "code",
   "execution_count": 55,
   "id": "597fb5bd-198d-425f-9f31-676d299ed569",
   "metadata": {},
   "outputs": [
    {
     "name": "stderr",
     "output_type": "stream",
     "text": [
      "/Users/krinaljoshi/.local/share/virtualenvs/nlp-projects-KSis0_H_/lib/python3.12/site-packages/torch/nn/modules/lazy.py:181: UserWarning: Lazy modules are a new feature under heavy development so changes to the API or functionality can happen at any moment.\n",
      "  warnings.warn('Lazy modules are a new feature under heavy development '\n"
     ]
    }
   ],
   "source": [
    "num_hiddens, num_heads = 100, 8\n",
    "attention = MultiHeadAttention(num_hiddens, num_heads, 0.5)\n",
    "# init batch_size, n_q, n_kv\n",
    "batch_size, num_queries, num_kvpairs = 12, 4, 6\n",
    "valid_lens = torch.tensor([3, 2])\n",
    "X = torch.ones((batch_size, num_queries, num_hiddens))\n",
    "Y = torch.ones((batch_size, num_kvpairs, num_hiddens))"
   ]
  },
  {
   "cell_type": "code",
   "execution_count": 61,
   "id": "1591f751-962b-46aa-988e-141427627365",
   "metadata": {},
   "outputs": [
    {
     "data": {
      "text/plain": [
       "torch.Size([12, 4, 100])"
      ]
     },
     "execution_count": 61,
     "metadata": {},
     "output_type": "execute_result"
    }
   ],
   "source": [
    "X.shape"
   ]
  },
  {
   "cell_type": "code",
   "execution_count": 62,
   "id": "abb7b150-dbe9-4daf-a839-f1f42098e033",
   "metadata": {},
   "outputs": [
    {
     "data": {
      "text/plain": [
       "torch.Size([12, 6, 100])"
      ]
     },
     "execution_count": 62,
     "metadata": {},
     "output_type": "execute_result"
    }
   ],
   "source": [
    "Y.shape"
   ]
  },
  {
   "cell_type": "code",
   "execution_count": 97,
   "id": "3080b1e4-0827-4071-b278-9f9d4a6d11e2",
   "metadata": {},
   "outputs": [],
   "source": [
    "class PositionalEncoding(nn.Module):\n",
    "    \"\"\"Positional encoding.\"\"\"\n",
    "    def __init__(self, num_hiddens, dropout, max_len=1000):\n",
    "        super().__init__()\n",
    "        self.dropout = nn.Dropout(dropout)\n",
    "        self.P = torch.zeros((1, max_len, num_hiddens))\n",
    "        X = torch.arange(max_len, dtype=torch.float32).reshape(\n",
    "            -1, 1) / torch.pow(10000, torch.arange(\n",
    "            0, num_hiddens, 2, dtype=torch.float32) / num_hiddens)\n",
    "        self.P[:, :, 0::2] = torch.sin(X)\n",
    "        self.P[:, :, 1::2] = torch.cos(X)\n",
    "\n",
    "    def forward(self, X):\n",
    "        X = X + self.P[:, :X.shape[1], :].to(X.device)\n",
    "        return self.dropout(X)"
   ]
  },
  {
   "cell_type": "code",
   "execution_count": 98,
   "id": "731ba65e-2ff2-460c-a4fa-2a710855d15d",
   "metadata": {},
   "outputs": [],
   "source": [
    "encoding_dim, num_steps = 32, 100\n",
    "pos = PositionalEncoding(encoding_dim, 0.5)\n",
    "X = pos(torch.zeros((1, num_steps, encoding_dim)))\n",
    "P = pos.P[:, :X.shape[1], :]"
   ]
  },
  {
   "cell_type": "code",
   "execution_count": 99,
   "id": "c7613437-3fad-4944-be5c-95ea4fa812ff",
   "metadata": {},
   "outputs": [
    {
     "data": {
      "text/plain": [
       "torch.Size([1, 100, 32])"
      ]
     },
     "execution_count": 99,
     "metadata": {},
     "output_type": "execute_result"
    }
   ],
   "source": [
    "X.shape"
   ]
  },
  {
   "cell_type": "code",
   "execution_count": 100,
   "id": "37e0224f-18ae-4c0e-8129-9e9c426ec7df",
   "metadata": {},
   "outputs": [
    {
     "data": {
      "text/plain": [
       "torch.Size([1, 100, 32])"
      ]
     },
     "execution_count": 100,
     "metadata": {},
     "output_type": "execute_result"
    }
   ],
   "source": [
    "P.shape"
   ]
  }
 ],
 "metadata": {
  "kernelspec": {
   "display_name": "Python 3 (ipykernel)",
   "language": "python",
   "name": "python3"
  },
  "language_info": {
   "codemirror_mode": {
    "name": "ipython",
    "version": 3
   },
   "file_extension": ".py",
   "mimetype": "text/x-python",
   "name": "python",
   "nbconvert_exporter": "python",
   "pygments_lexer": "ipython3",
   "version": "3.12.3"
  }
 },
 "nbformat": 4,
 "nbformat_minor": 5
}
