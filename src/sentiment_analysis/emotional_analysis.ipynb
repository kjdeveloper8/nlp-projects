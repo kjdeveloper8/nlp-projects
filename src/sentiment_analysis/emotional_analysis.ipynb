{
 "cells": [
  {
   "cell_type": "markdown",
   "id": "bd286057-1ebc-4d87-ac83-f04d7d634dc9",
   "metadata": {},
   "source": [
    "## Emotional Analysis "
   ]
  },
  {
   "cell_type": "markdown",
   "id": "04d9ed27-ae03-48d7-b66e-0fa65186da14",
   "metadata": {},
   "source": [
    "#### Emotion Detection\n",
    "- Dataset (train, test, val)\n",
    "- EDA\n",
    "- Text preprocessing (cleaning and tokenization)\n",
    "- Text vectorization (tfidf)\n",
    "- Data resampling (if imbalance)\n",
    "- Model (RandomForestClassifier, SVM, LogisticRegression, MultinomialNB)\n",
    "- VotingClassifier and evaluation\n",
    "- Prediction"
   ]
  },
  {
   "cell_type": "markdown",
   "id": "1427cea3-d68f-49aa-81cf-45a80c23dc6d",
   "metadata": {},
   "source": [
    "### Dataset"
   ]
  },
  {
   "cell_type": "code",
   "execution_count": 1,
   "id": "090f8ea6-dbfe-49a2-b82e-1fafbb01311e",
   "metadata": {},
   "outputs": [],
   "source": [
    "# import opendatasets as od\n",
    "# dataset_url = 'https://www.kaggle.com/datasets/praveengovi/emotions-dataset-for-nlp'\n",
    "# od.download(dataset_url)"
   ]
  },
  {
   "cell_type": "code",
   "execution_count": 2,
   "id": "3b9bcc42-5338-4fda-8229-d7ca5b912728",
   "metadata": {},
   "outputs": [],
   "source": [
    "import re\n",
    "import random\n",
    "import numpy as np\n",
    "import pandas as pd\n",
    "import matplotlib.pyplot as plt\n",
    "\n",
    "import nltk\n",
    "from nltk.corpus import stopwords, wordnet\n",
    "from nltk.stem import PorterStemmer\n",
    "from nltk.tokenize import word_tokenize\n",
    "\n",
    "from sklearn.base import BaseEstimator, TransformerMixin\n",
    "from sklearn.feature_extraction.text import CountVectorizer, TfidfVectorizer\n",
    "from sklearn.metrics import accuracy_score, confusion_matrix, classification_report\n",
    "from sklearn.pipeline import make_pipeline, Pipeline\n",
    "from sklearn.model_selection import train_test_split\n",
    "from sklearn.preprocessing import LabelEncoder, StandardScaler, MinMaxScaler, RobustScaler, Normalizer"
   ]
  },
  {
   "cell_type": "markdown",
   "id": "f254a2a0-839c-484e-83a8-5ffd091a4cef",
   "metadata": {},
   "source": [
    "### EDA"
   ]
  },
  {
   "cell_type": "code",
   "execution_count": 3,
   "id": "b0b8d4a7-ba85-4cf9-98b2-45aeeb9af1d9",
   "metadata": {},
   "outputs": [],
   "source": [
    "# read and create dataframes\n",
    "traindf = pd.read_csv('emotions-dataset-for-nlp/train.txt', sep=';', header=None, names=['Text', 'Emotion'])\n",
    "test_df = pd.read_csv('emotions-dataset-for-nlp/test.txt', sep=';', header=None, names=['Text', 'Emotion'])\n",
    "val_df = pd.read_csv('emotions-dataset-for-nlp/val.txt', sep=';', header=None, names=['Text', 'Emotion'])"
   ]
  },
  {
   "cell_type": "code",
   "execution_count": 4,
   "id": "db2ebd3e-2bcd-4cf6-837a-d2ba37ef674f",
   "metadata": {},
   "outputs": [],
   "source": [
    "train_df = pd.concat([traindf, val_df])"
   ]
  },
  {
   "cell_type": "code",
   "execution_count": 5,
   "id": "2ceea0f8-0385-49f1-a12a-19702ce55ea8",
   "metadata": {},
   "outputs": [
    {
     "name": "stdout",
     "output_type": "stream",
     "text": [
      "<class 'pandas.core.frame.DataFrame'>\n",
      "Index: 18000 entries, 0 to 1999\n",
      "Data columns (total 2 columns):\n",
      " #   Column   Non-Null Count  Dtype \n",
      "---  ------   --------------  ----- \n",
      " 0   Text     18000 non-null  object\n",
      " 1   Emotion  18000 non-null  object\n",
      "dtypes: object(2)\n",
      "memory usage: 421.9+ KB\n"
     ]
    }
   ],
   "source": [
    "train_df.info()"
   ]
  },
  {
   "cell_type": "code",
   "execution_count": 6,
   "id": "388289b9-1476-4e47-9b2e-8d6382a39883",
   "metadata": {},
   "outputs": [
    {
     "name": "stdout",
     "output_type": "stream",
     "text": [
      "<class 'pandas.core.frame.DataFrame'>\n",
      "RangeIndex: 2000 entries, 0 to 1999\n",
      "Data columns (total 2 columns):\n",
      " #   Column   Non-Null Count  Dtype \n",
      "---  ------   --------------  ----- \n",
      " 0   Text     2000 non-null   object\n",
      " 1   Emotion  2000 non-null   object\n",
      "dtypes: object(2)\n",
      "memory usage: 31.4+ KB\n"
     ]
    }
   ],
   "source": [
    "test_df.info()"
   ]
  },
  {
   "cell_type": "markdown",
   "id": "303448fa-f7be-48a5-90d1-200a1137c9bd",
   "metadata": {},
   "source": [
    "- Count the emotion values"
   ]
  },
  {
   "cell_type": "code",
   "execution_count": 7,
   "id": "23409ec7-e5a4-4185-8939-fe3b4f53b098",
   "metadata": {},
   "outputs": [
    {
     "data": {
      "text/plain": [
       "Emotion\n",
       "joy         6066\n",
       "sadness     5216\n",
       "anger       2434\n",
       "fear        2149\n",
       "love        1482\n",
       "surprise     653\n",
       "Name: count, dtype: int64"
      ]
     },
     "execution_count": 7,
     "metadata": {},
     "output_type": "execute_result"
    }
   ],
   "source": [
    "train_df['Emotion'].value_counts()"
   ]
  },
  {
   "cell_type": "code",
   "execution_count": 8,
   "id": "b0b6e506-986a-4321-b23f-e28c02c1186c",
   "metadata": {},
   "outputs": [],
   "source": [
    "import seaborn as sns"
   ]
  },
  {
   "cell_type": "code",
   "execution_count": 9,
   "id": "3dd97b32-d4bf-4a5f-a656-839eaea1b8c3",
   "metadata": {},
   "outputs": [
    {
     "data": {
      "text/plain": [
       "<Axes: xlabel='count', ylabel='Emotion'>"
      ]
     },
     "execution_count": 9,
     "metadata": {},
     "output_type": "execute_result"
    },
    {
     "data": {
      "image/png": "[encoded data removed]",
      "text/plain": [
       "<Figure size 640x480 with 1 Axes>"
      ]
     },
     "metadata": {},
     "output_type": "display_data"
    }
   ],
   "source": [
    "sns.countplot(train_df['Emotion'])"
   ]
  },
  {
   "cell_type": "markdown",
   "id": "6c2d0560-dd99-4ebe-b6eb-d9172ba07bbb",
   "metadata": {},
   "source": [
    "<br>\n",
    "Looks like our data is imbalance -- surprise and love seems to be in minority whereas joy and sadness is in majority\n",
    "<br>\n",
    "Therefore, we will apply SMOTENC to oversample the minority class"
   ]
  },
  {
   "cell_type": "code",
   "execution_count": 10,
   "id": "a38d2e3d-8776-4d6a-9db7-5a488987abb9",
   "metadata": {},
   "outputs": [],
   "source": [
    "# !pip install imbalanced-learn -q"
   ]
  },
  {
   "cell_type": "code",
   "execution_count": 11,
   "id": "bd3e024f-8e6b-4a0c-9665-e8c4e6c0d452",
   "metadata": {},
   "outputs": [
    {
     "data": {
      "text/plain": [
       "CategoricalDtype(categories=['anger', 'fear', 'joy', 'love', 'sadness', 'surprise'], ordered=False, categories_dtype=object)"
      ]
     },
     "execution_count": 11,
     "metadata": {},
     "output_type": "execute_result"
    }
   ],
   "source": [
    "# convert the Emotion data as Categorial\n",
    "train_df_em_ct = train_df['Emotion'].astype(\"category\")\n",
    "train_df_em_ct.dtypes"
   ]
  },
  {
   "cell_type": "code",
   "execution_count": 12,
   "id": "fa183bfe-58b3-4fe7-82c8-a876d7ec1cb7",
   "metadata": {},
   "outputs": [
    {
     "data": {
      "text/plain": [
       "Index(['Text', 'Emotion'], dtype='object')"
      ]
     },
     "execution_count": 12,
     "metadata": {},
     "output_type": "execute_result"
    }
   ],
   "source": [
    "train_df.columns"
   ]
  },
  {
   "cell_type": "markdown",
   "id": "144429ed-aa67-4476-897f-043248c9bc5f",
   "metadata": {},
   "source": [
    "### Preprocessing"
   ]
  },
  {
   "cell_type": "markdown",
   "id": "32b7a215-c122-4879-ac2e-7bf22c5eafb4",
   "metadata": {},
   "source": [
    "- Preprocessing\n",
    "    - remove non alphabets\n",
    "    - convert to lower case\n",
    "    - split words (use it as token)\n",
    "    - (skip) stemming on tokens (for faster processing and to get essential meaning of words without much grametical correctness)\n",
    "    - join words"
   ]
  },
  {
   "cell_type": "code",
   "execution_count": 13,
   "id": "1a877e7f-2666-4aa3-ae0e-3b9074780912",
   "metadata": {},
   "outputs": [],
   "source": [
    "def preprocess_text(text):\n",
    "    processed_text = re.sub('[^a-zA-Z]', ' ', text) # remove non-alphabet\n",
    "    processed_text = text.lower()\n",
    "    processed_text = processed_text.split() \n",
    "\n",
    "    # steming data\n",
    "    # ps = PorterStemmer()\n",
    "    # processed_text = [ps.stem(word) for word in processed_text if word not in set(stopwords.words('english'))]\n",
    "    processed_text = ' '.join(processed_text)\n",
    "    return processed_text"
   ]
  },
  {
   "cell_type": "code",
   "execution_count": 14,
   "id": "ab938203-4de2-45f4-b405-0c6797f01e50",
   "metadata": {},
   "outputs": [],
   "source": [
    "# train_df['Text'].apply(preprocess_text) # can directly apply in tfidf"
   ]
  },
  {
   "cell_type": "markdown",
   "id": "776cbdba-5c6b-4b36-8815-18c9c39314bb",
   "metadata": {},
   "source": [
    "#### Vectorization of text data"
   ]
  },
  {
   "cell_type": "code",
   "execution_count": 15,
   "id": "d5bed6f6-aa03-4003-ad60-d3fdd897287c",
   "metadata": {},
   "outputs": [
    {
     "name": "stdout",
     "output_type": "stream",
     "text": [
      "vectorization done in 0.245 s\n"
     ]
    }
   ],
   "source": [
    "from time import time\n",
    "\n",
    "en_stopwords = stopwords.words('english')\n",
    "tfidf = TfidfVectorizer(stop_words=en_stopwords, preprocessor=preprocess_text) \n",
    "t0 = time()\n",
    "train_vec = tfidf.fit_transform(train_df['Text'])\n",
    "\n",
    "print(f\"vectorization done in {time() - t0:.3f} s\")"
   ]
  },
  {
   "cell_type": "code",
   "execution_count": 16,
   "id": "dc15002f-b445-418b-89ca-924a96dfd6fc",
   "metadata": {},
   "outputs": [
    {
     "data": {
      "text/plain": [
       "(18000, 16029)"
      ]
     },
     "execution_count": 16,
     "metadata": {},
     "output_type": "execute_result"
    }
   ],
   "source": [
    "train_vec.shape"
   ]
  },
  {
   "cell_type": "code",
   "execution_count": 17,
   "id": "d0053e3d-d94b-4224-9ff4-d8b6ddf8dc8f",
   "metadata": {},
   "outputs": [
    {
     "data": {
      "text/plain": [
       "(18000,)"
      ]
     },
     "execution_count": 17,
     "metadata": {},
     "output_type": "execute_result"
    }
   ],
   "source": [
    "train_df_em_ct.shape"
   ]
  },
  {
   "cell_type": "markdown",
   "id": "7c051905-c8f3-4173-8482-264ab02d1c74",
   "metadata": {},
   "source": [
    "#### Oversampling"
   ]
  },
  {
   "cell_type": "markdown",
   "id": "998e04b8-afb8-4acd-9dee-7448f54f4ef4",
   "metadata": {},
   "source": [
    "- Oversampling\n",
    "    - SMOTNEC (for categorial data with dataframe)\n",
    "    - input (X, y)\n",
    "         - X: data to be resampled (csr_matrix -- shape:(n_samples, n_features))\n",
    "         - y: categorial features corresponds to the data (X) (shape(n_samples, ))\n",
    "    - sampling_strategy\n",
    "        - minority: resample only the minority class\n",
    "        - not majority: resample all classes but the majority class"
   ]
  },
  {
   "cell_type": "markdown",
   "id": "a4cb280c-1a74-42f0-a7de-751a87faedda",
   "metadata": {},
   "source": [
    "##### Sampling strategy: minority "
   ]
  },
  {
   "cell_type": "code",
   "execution_count": 18,
   "id": "8938aa47-2874-484d-a26b-0cf0f6812508",
   "metadata": {},
   "outputs": [
    {
     "name": "stdout",
     "output_type": "stream",
     "text": [
      "resampling done in 1.618 s\n"
     ]
    }
   ],
   "source": [
    "from imblearn.over_sampling import SMOTENC\n",
    "sm = SMOTENC(sampling_strategy='minority', random_state=42, categorical_features=[0,1,2,3,4,5])\n",
    "\n",
    "X = train_vec          # data to resample\n",
    "y = train_df_em_ct     # categorial features corresponds to the data (X)\n",
    "t0 = time()\n",
    "# smotenc\n",
    "X_res_min, y_res_min = sm.fit_resample(X, y) # pass categorial data as smotenc accept it as categorial format\n",
    "\n",
    "print(f\"resampling done in {time() - t0:.3f} s\")"
   ]
  },
  {
   "cell_type": "code",
   "execution_count": 19,
   "id": "7e2c7a18-391e-436a-b02d-2eabd4357c97",
   "metadata": {
    "scrolled": true
   },
   "outputs": [
    {
     "data": {
      "text/plain": [
       "(23413, 16029)"
      ]
     },
     "execution_count": 19,
     "metadata": {},
     "output_type": "execute_result"
    }
   ],
   "source": [
    "X_res_min.shape"
   ]
  },
  {
   "cell_type": "code",
   "execution_count": 20,
   "id": "6540cac8-cdad-4d9b-8d74-7821dbce4ada",
   "metadata": {},
   "outputs": [
    {
     "data": {
      "text/plain": [
       "(23413,)"
      ]
     },
     "execution_count": 20,
     "metadata": {},
     "output_type": "execute_result"
    }
   ],
   "source": [
    "y_res_min.shape"
   ]
  },
  {
   "cell_type": "code",
   "execution_count": 21,
   "id": "28e718c0-888b-4719-b0f1-d9de0923c5b8",
   "metadata": {},
   "outputs": [
    {
     "data": {
      "text/plain": [
       "<Axes: xlabel='count'>"
      ]
     },
     "execution_count": 21,
     "metadata": {},
     "output_type": "execute_result"
    },
    {
     "data": {
      "image/png": "[encoded data removed]",
      "text/plain": [
       "<Figure size 640x480 with 1 Axes>"
      ]
     },
     "metadata": {},
     "output_type": "display_data"
    }
   ],
   "source": [
    "sns.countplot(y_res_min.values)"
   ]
  },
  {
   "cell_type": "markdown",
   "id": "604a5316-a25a-4110-adab-5344d9d3aa2a",
   "metadata": {},
   "source": [
    "##### Sampling strategy: not majority "
   ]
  },
  {
   "cell_type": "code",
   "execution_count": 22,
   "id": "880ec1e9-add9-4857-ae8c-a2eddee0bf96",
   "metadata": {},
   "outputs": [
    {
     "name": "stdout",
     "output_type": "stream",
     "text": [
      "resampling with all minority class done in 4.900 s\n"
     ]
    }
   ],
   "source": [
    "from imblearn.over_sampling import SMOTENC\n",
    "sm = SMOTENC(sampling_strategy='not majority', random_state=42, categorical_features=[0,1,2,3,4,5])\n",
    "\n",
    "X = train_vec          # data to resample\n",
    "y = train_df_em_ct     # categorial features corresponds to the data (X)\n",
    "t0 = time()\n",
    "# smotenc\n",
    "X_res, y_res = sm.fit_resample(X, y) # pass categorial data as smotenc accept it as categorial format\n",
    "\n",
    "print(f\"resampling with all minority class done in {time() - t0:.3f} s\")"
   ]
  },
  {
   "cell_type": "code",
   "execution_count": 23,
   "id": "78cbd52d-4db8-4360-b958-e807a2a0f284",
   "metadata": {},
   "outputs": [
    {
     "data": {
      "text/plain": [
       "(36396, 16029)"
      ]
     },
     "execution_count": 23,
     "metadata": {},
     "output_type": "execute_result"
    }
   ],
   "source": [
    "X_res.shape"
   ]
  },
  {
   "cell_type": "code",
   "execution_count": 24,
   "id": "ba45891a-0eb5-4188-b7f7-42b46492bae0",
   "metadata": {},
   "outputs": [
    {
     "data": {
      "text/plain": [
       "(36396,)"
      ]
     },
     "execution_count": 24,
     "metadata": {},
     "output_type": "execute_result"
    }
   ],
   "source": [
    "y_res.shape"
   ]
  },
  {
   "cell_type": "code",
   "execution_count": 25,
   "id": "ca4c1e5f-e218-4a65-903a-c3ea91599b80",
   "metadata": {},
   "outputs": [
    {
     "data": {
      "text/plain": [
       "<Axes: xlabel='count'>"
      ]
     },
     "execution_count": 25,
     "metadata": {},
     "output_type": "execute_result"
    },
    {
     "data": {
      "image/png": "[encoded data removed]",
      "text/plain": [
       "<Figure size 640x480 with 1 Axes>"
      ]
     },
     "metadata": {},
     "output_type": "display_data"
    }
   ],
   "source": [
    "sns.countplot(y_res.values)"
   ]
  },
  {
   "cell_type": "markdown",
   "id": "44863ec7-e1b3-4a1a-9b13-d10ca54a9a1f",
   "metadata": {},
   "source": [
    "**let's go with not majority sampling**"
   ]
  },
  {
   "cell_type": "code",
   "execution_count": 26,
   "id": "4ab76290-e080-4bde-8d76-b280ae9a7dea",
   "metadata": {},
   "outputs": [
    {
     "data": {
      "text/plain": [
       "scipy.sparse._csr.csr_matrix"
      ]
     },
     "execution_count": 26,
     "metadata": {},
     "output_type": "execute_result"
    }
   ],
   "source": [
    "type(X_res)"
   ]
  },
  {
   "cell_type": "markdown",
   "id": "c3164831-b03f-4f56-a175-712fd895f575",
   "metadata": {},
   "source": [
    "- Revert back to text data"
   ]
  },
  {
   "cell_type": "code",
   "execution_count": 27,
   "id": "9df54a7d-b0c6-4f56-b3be-bbcdc767aefd",
   "metadata": {},
   "outputs": [],
   "source": [
    "train_df_res = tfidf.inverse_transform(X_res)"
   ]
  },
  {
   "cell_type": "code",
   "execution_count": 28,
   "id": "5f408a3e-bce1-48f0-80ac-75e493e35b6f",
   "metadata": {},
   "outputs": [
    {
     "data": {
      "text/plain": [
       "36396"
      ]
     },
     "execution_count": 28,
     "metadata": {},
     "output_type": "execute_result"
    }
   ],
   "source": [
    "len(train_df_res)"
   ]
  },
  {
   "cell_type": "code",
   "execution_count": 29,
   "id": "70c56fc9-ba2b-443d-b25d-24baca5bfbd2",
   "metadata": {},
   "outputs": [
    {
     "data": {
      "text/plain": [
       "list"
      ]
     },
     "execution_count": 29,
     "metadata": {},
     "output_type": "execute_result"
    }
   ],
   "source": [
    "type(train_df_res)"
   ]
  },
  {
   "cell_type": "code",
   "execution_count": 30,
   "id": "5bedad0c-5888-4cd2-96ce-f91ad0492b20",
   "metadata": {
    "scrolled": true
   },
   "outputs": [
    {
     "data": {
      "text/plain": [
       "[array(['didnt', 'feel', 'humiliated'], dtype='<U74'),\n",
       " array(['around', 'awake', 'cares', 'damned', 'feeling', 'go', 'hopeful',\n",
       "        'hopeless', 'someone'], dtype='<U74'),\n",
       " array(['feel', 'grabbing', 'greedy', 'im', 'minute', 'post', 'wrong'],\n",
       "       dtype='<U74'),\n",
       " array(['ever', 'feeling', 'fireplace', 'know', 'nostalgic', 'property',\n",
       "        'still'], dtype='<U74'),\n",
       " array(['feeling', 'grouchy'], dtype='<U74'),\n",
       " array(['burdened', 'feeling', 'ive', 'lately', 'little', 'sure', 'wasnt'],\n",
       "       dtype='<U74'),\n",
       " array(['also', 'amount', 'asleep', 'fallen', 'faster', 'feel', 'funny',\n",
       "        'ive', 'like', 'lot', 'milligrams', 'recommended', 'taking',\n",
       "        'times'], dtype='<U74'),\n",
       " array(['confused', 'feel', 'jaded', 'life', 'man', 'old', 'teenager',\n",
       "        'year'], dtype='<U74'),\n",
       " array(['feel', 'huge', 'made', 'performed', 'petronas', 'profit', 'well',\n",
       "        'years'], dtype='<U74'),\n",
       " array(['feel', 'romantic'], dtype='<U74'),\n",
       " array(['feel', 'like', 'make', 'mean', 'seeing', 'something', 'suffering'],\n",
       "       dtype='<U74'),\n",
       " array(['divine', 'encounter', 'expect', 'experience', 'feel', 'running',\n",
       "        'spiritual', 'type'], dtype='<U74')]"
      ]
     },
     "execution_count": 30,
     "metadata": {},
     "output_type": "execute_result"
    }
   ],
   "source": [
    "train_df_res[:12]"
   ]
  },
  {
   "cell_type": "code",
   "execution_count": 31,
   "id": "1c5920a9-4fd7-4dd4-8eec-a5a8eb5557e3",
   "metadata": {
    "scrolled": true
   },
   "outputs": [
    {
     "data": {
      "text/plain": [
       "0                                 didnt feel humiliated\n",
       "1     around awake cares damned feeling go hopeful h...\n",
       "2             feel grabbing greedy im minute post wrong\n",
       "3     ever feeling fireplace know nostalgic property...\n",
       "4                                       feeling grouchy\n",
       "5         burdened feeling ive lately little sure wasnt\n",
       "6     also amount asleep fallen faster feel funny iv...\n",
       "7        confused feel jaded life man old teenager year\n",
       "8     feel huge made performed petronas profit well ...\n",
       "9                                         feel romantic\n",
       "10       feel like make mean seeing something suffering\n",
       "11    divine encounter expect experience feel runnin...\n",
       "dtype: object"
      ]
     },
     "execution_count": 31,
     "metadata": {},
     "output_type": "execute_result"
    }
   ],
   "source": [
    "# join str arr and create a dataframe\n",
    "train_df_res_ = pd.DataFrame(train_df_res).apply(lambda x: ' '.join(item for item in x if item), axis=1) # join as col\n",
    "train_df_res_[:12]"
   ]
  },
  {
   "cell_type": "code",
   "execution_count": 32,
   "id": "b71bec4d-ee81-413d-af02-17829e6faa99",
   "metadata": {},
   "outputs": [
    {
     "data": {
      "text/plain": [
       "36396"
      ]
     },
     "execution_count": 32,
     "metadata": {},
     "output_type": "execute_result"
    }
   ],
   "source": [
    "len(train_df_res_)"
   ]
  },
  {
   "cell_type": "code",
   "execution_count": 33,
   "id": "cd0e88ab-45e0-4917-ab73-fc0216dc3d20",
   "metadata": {},
   "outputs": [
    {
     "data": {
      "text/plain": [
       "36396"
      ]
     },
     "execution_count": 33,
     "metadata": {},
     "output_type": "execute_result"
    }
   ],
   "source": [
    "len(y_res)"
   ]
  },
  {
   "cell_type": "code",
   "execution_count": 34,
   "id": "7990e497-f3ef-4d08-aa22-e5b4c4007e08",
   "metadata": {},
   "outputs": [
    {
     "data": {
      "text/plain": [
       "['sadness', 'sadness', 'anger', 'love', 'anger', ..., 'surprise', 'surprise', 'surprise', 'surprise', 'surprise']\n",
       "Length: 36396\n",
       "Categories (6, object): ['anger', 'fear', 'joy', 'love', 'sadness', 'surprise']"
      ]
     },
     "execution_count": 34,
     "metadata": {},
     "output_type": "execute_result"
    }
   ],
   "source": [
    "y_res.values"
   ]
  },
  {
   "cell_type": "code",
   "execution_count": 35,
   "id": "ce90bd41-c1f4-48e7-b430-1830bdfd007a",
   "metadata": {},
   "outputs": [
    {
     "data": {
      "text/plain": [
       "pandas.core.series.Series"
      ]
     },
     "execution_count": 35,
     "metadata": {},
     "output_type": "execute_result"
    }
   ],
   "source": [
    "type(train_df_res_)"
   ]
  },
  {
   "cell_type": "code",
   "execution_count": 36,
   "id": "39d91d20-9138-41f1-a75a-d17ecd77b201",
   "metadata": {},
   "outputs": [
    {
     "data": {
      "text/plain": [
       "(36396,)"
      ]
     },
     "execution_count": 36,
     "metadata": {},
     "output_type": "execute_result"
    }
   ],
   "source": [
    "train_df_res_.shape"
   ]
  },
  {
   "cell_type": "code",
   "execution_count": 37,
   "id": "29718145-b725-4dad-b679-6dbd96e097a7",
   "metadata": {},
   "outputs": [
    {
     "data": {
      "text/plain": [
       "(36396,)"
      ]
     },
     "execution_count": 37,
     "metadata": {},
     "output_type": "execute_result"
    }
   ],
   "source": [
    "y_res.shape"
   ]
  },
  {
   "cell_type": "code",
   "execution_count": 38,
   "id": "0e74dc2f-e589-4efd-b232-078f2ef142fa",
   "metadata": {},
   "outputs": [
    {
     "data": {
      "text/plain": [
       "array(['didnt feel humiliated',\n",
       "       'around awake cares damned feeling go hopeful hopeless someone',\n",
       "       'feel grabbing greedy im minute post wrong', ...,\n",
       "       'check contractions could didnt downstairs dull feel feeling hour kind nurse said sensation still strange want',\n",
       "       'bi creativity feeling finance got im impressed little manufacturing steve us used',\n",
       "       'bungalow delighted feeling florida guests guy im like little making much new overwhelmed pic preparing starved thanksgiving time weekend work'],\n",
       "      dtype=object)"
      ]
     },
     "execution_count": 38,
     "metadata": {},
     "output_type": "execute_result"
    }
   ],
   "source": [
    "train_df_res_.values"
   ]
  },
  {
   "cell_type": "markdown",
   "id": "d36cb9a7-0651-46f7-9210-d3ed6652cfe4",
   "metadata": {},
   "source": [
    "### Model"
   ]
  },
  {
   "cell_type": "markdown",
   "id": "a61954db-7b10-4cb1-a169-cb1242cffd4e",
   "metadata": {},
   "source": [
    "- On resampled data"
   ]
  },
  {
   "cell_type": "markdown",
   "id": "f7f5b94a-fe83-47ce-af5e-c975eae582a4",
   "metadata": {},
   "source": [
    "#### RandomForestClassifier"
   ]
  },
  {
   "cell_type": "code",
   "execution_count": 39,
   "id": "cf86dbe3-9a9b-4219-bde1-c436bec71103",
   "metadata": {},
   "outputs": [
    {
     "name": "stderr",
     "output_type": "stream",
     "text": [
      "[Parallel(n_jobs=-1)]: Using backend ThreadingBackend with 8 concurrent workers.\n",
      "[Parallel(n_jobs=-1)]: Done  34 tasks      | elapsed:    1.3s\n"
     ]
    },
    {
     "name": "stdout",
     "output_type": "stream",
     "text": [
      "RF -- time taken: 2.030 s\n"
     ]
    },
    {
     "name": "stderr",
     "output_type": "stream",
     "text": [
      "[Parallel(n_jobs=-1)]: Done  50 out of  50 | elapsed:    1.8s finished\n"
     ]
    }
   ],
   "source": [
    "from sklearn.ensemble import RandomForestClassifier\n",
    "\n",
    "t0 = time()\n",
    "vectorizer = CountVectorizer()\n",
    "rf = RandomForestClassifier(n_estimators=50, random_state=42, n_jobs=-1, verbose=1)\n",
    "\n",
    "pipeline = Pipeline([\n",
    "    (\"vectorizer\", vectorizer),   \n",
    "    (\"classifier\", rf)            \n",
    "])\n",
    "\n",
    "pipeline.fit(train_df_res_.values, y_res.values)\n",
    "print(f\"RF -- time taken: {time() - t0:.3f} s\")"
   ]
  },
  {
   "cell_type": "code",
   "execution_count": 40,
   "id": "10ff1b0b-3f68-4c70-b2f9-381b2245af1f",
   "metadata": {},
   "outputs": [
    {
     "name": "stdout",
     "output_type": "stream",
     "text": [
      "Train set accuracy on resampled data: 0.9986536982085944\n"
     ]
    },
    {
     "name": "stderr",
     "output_type": "stream",
     "text": [
      "[Parallel(n_jobs=8)]: Using backend ThreadingBackend with 8 concurrent workers.\n",
      "[Parallel(n_jobs=8)]: Done  34 tasks      | elapsed:    0.1s\n",
      "[Parallel(n_jobs=8)]: Done  50 out of  50 | elapsed:    0.1s finished\n"
     ]
    }
   ],
   "source": [
    "train_pred = pipeline.predict(train_df_res_.values)\n",
    "train_accuracy = accuracy_score(y_res.values, train_pred)\n",
    "print(\"Train set accuracy on resampled data:\", train_accuracy)"
   ]
  },
  {
   "cell_type": "code",
   "execution_count": 42,
   "id": "27f94cae-4094-4b4b-9548-f89b87a98389",
   "metadata": {},
   "outputs": [
    {
     "name": "stdout",
     "output_type": "stream",
     "text": [
      "Test set accuracy: 0.866\n"
     ]
    },
    {
     "name": "stderr",
     "output_type": "stream",
     "text": [
      "[Parallel(n_jobs=8)]: Using backend ThreadingBackend with 8 concurrent workers.\n",
      "[Parallel(n_jobs=8)]: Done  34 tasks      | elapsed:    0.0s\n",
      "[Parallel(n_jobs=8)]: Done  50 out of  50 | elapsed:    0.0s finished\n"
     ]
    }
   ],
   "source": [
    "# test acc\n",
    "x_test_procceced = test_df['Text'].apply(preprocess_text)\n",
    "test_pred = pipeline.predict(x_test_procceced)\n",
    "test_accuracy = accuracy_score(test_df['Emotion'], test_pred)\n",
    "print(\"Test set accuracy:\", test_accuracy)"
   ]
  },
  {
   "cell_type": "markdown",
   "id": "6a5fa674-e9fb-40f4-9eb8-22cb320a6b06",
   "metadata": {},
   "source": [
    "#### SVM"
   ]
  },
  {
   "cell_type": "code",
   "execution_count": 48,
   "id": "526c4209-3238-4cee-aab2-7153b399e01d",
   "metadata": {},
   "outputs": [
    {
     "name": "stdout",
     "output_type": "stream",
     "text": [
      "SVM -- time taken: 27.785 s\n"
     ]
    }
   ],
   "source": [
    "from sklearn.svm import SVC\n",
    "\n",
    "t0 = time()\n",
    "vectorizer = CountVectorizer()\n",
    "svm = SVC(kernel=\"linear\",gamma=1, C=.5, random_state=42)\n",
    "svm_pipeline = Pipeline(\n",
    "                [   (\"vectorizer\", vectorizer),\n",
    "                    (\"svm\", svm),\n",
    "                ]\n",
    ")\n",
    "svm_pipeline.fit(train_df_res_.values, y_res.values) \n",
    "print(f\"SVM -- time taken: {time() - t0:.3f} s\")"
   ]
  },
  {
   "cell_type": "code",
   "execution_count": 49,
   "id": "a9b37b42-45e7-4fdd-baed-4c0ef7e5d7cb",
   "metadata": {},
   "outputs": [
    {
     "name": "stdout",
     "output_type": "stream",
     "text": [
      "SVM -- Train accuracy: 0.9908231673810309\n",
      "SVM -- Test accuracy: 0.8795\n"
     ]
    }
   ],
   "source": [
    "# train acc\n",
    "train_pred = svm_pipeline.predict(train_df_res_.values)\n",
    "train_accuracy = accuracy_score(y_res.values, train_pred)\n",
    "print(\"SVM -- Train accuracy:\", train_accuracy)\n",
    "\n",
    "# test acc\n",
    "test_pred = svm_pipeline.predict(x_test_procceced)\n",
    "test_accuracy = accuracy_score(test_df['Emotion'], test_pred)\n",
    "print(\"SVM -- Test accuracy:\", test_accuracy)"
   ]
  },
  {
   "cell_type": "markdown",
   "id": "a74b9862-f188-4f14-a92d-92c2304742a2",
   "metadata": {},
   "source": [
    "#### LogisticRegression"
   ]
  },
  {
   "cell_type": "code",
   "execution_count": 50,
   "id": "78406664-12cd-40ba-a353-5a093f3a9412",
   "metadata": {},
   "outputs": [
    {
     "name": "stdout",
     "output_type": "stream",
     "text": [
      "LogisticRegression -- time taken: 1.869 s\n"
     ]
    }
   ],
   "source": [
    "from sklearn.linear_model import LogisticRegression\n",
    "\n",
    "t0 = time()\n",
    "vectorizer = CountVectorizer()\n",
    "logistics = LogisticRegression(random_state=42, max_iter=1000)\n",
    "\n",
    "logs_pipeline = Pipeline([\n",
    "    (\"vectorizer\", CountVectorizer()),   \n",
    "    (\"classifier\", logistics)  \n",
    "])\n",
    "\n",
    "logs_pipeline.fit(train_df_res_.values, y_res.values)\n",
    "print(f\"LogisticRegression -- time taken: {time() - t0:.3f} s\")"
   ]
  },
  {
   "cell_type": "code",
   "execution_count": 51,
   "id": "108b1f0c-c665-4289-bcea-2d2a6a80c3a1",
   "metadata": {},
   "outputs": [
    {
     "name": "stdout",
     "output_type": "stream",
     "text": [
      "LR -- Train accuracy: 0.9900538520716562\n",
      "LR -- Test accuracy: 0.8845\n"
     ]
    }
   ],
   "source": [
    "# train acc\n",
    "train_pred = logs_pipeline.predict(train_df_res_.values)\n",
    "train_accuracy = accuracy_score(y_res.values, train_pred)\n",
    "print(\"LR -- Train accuracy:\", train_accuracy)\n",
    "\n",
    "# test acc\n",
    "test_pred = logs_pipeline.predict(x_test_procceced)\n",
    "test_accuracy = accuracy_score(test_df['Emotion'], test_pred)\n",
    "print(\"LR -- Test accuracy:\", test_accuracy)"
   ]
  },
  {
   "cell_type": "markdown",
   "id": "c12d61bf-c997-4453-bbc9-6065ae9cb897",
   "metadata": {},
   "source": [
    "#### MultinomialNB"
   ]
  },
  {
   "cell_type": "code",
   "execution_count": 52,
   "id": "b19798ab-99e7-4ff4-bc9d-4bc467ed1865",
   "metadata": {},
   "outputs": [
    {
     "name": "stdout",
     "output_type": "stream",
     "text": [
      "MNB -- time taken: 0.297 s\n"
     ]
    }
   ],
   "source": [
    "from sklearn.naive_bayes import MultinomialNB\n",
    "\n",
    "t0 = time()\n",
    "vectorizer = CountVectorizer()\n",
    "mnb = MultinomialNB()\n",
    "\n",
    "mnb_pipeline = Pipeline(\n",
    "    [  (\"vectorizer\", CountVectorizer()), \n",
    "       (\"classifier\", mnb) \n",
    "    ])\n",
    "\n",
    "mnb_pipeline.fit(train_df_res_.values, y_res.values)\n",
    "print(f\"MNB -- time taken: {time() - t0:.3f} s\")"
   ]
  },
  {
   "cell_type": "code",
   "execution_count": 54,
   "id": "b8bc9fd3-3f3c-4c82-8157-83bb57936d9f",
   "metadata": {},
   "outputs": [
    {
     "name": "stdout",
     "output_type": "stream",
     "text": [
      "MNB -- Train accuracy: 0.9568908671282559\n",
      "MNB -- Test accuracy: 0.8075\n"
     ]
    }
   ],
   "source": [
    "# train acc\n",
    "train_pred = mnb_pipeline.predict(train_df_res_.values)\n",
    "train_accuracy = accuracy_score(y_res.values, train_pred)\n",
    "print(\"MNB -- Train accuracy:\", train_accuracy)\n",
    "\n",
    "# test acc\n",
    "test_pred = mnb_pipeline.predict(x_test_procceced)\n",
    "test_accuracy = accuracy_score(test_df['Emotion'], test_pred)\n",
    "print(\"MNB -- Test accuracy:\", test_accuracy)"
   ]
  },
  {
   "cell_type": "markdown",
   "id": "4e302f3f-27c2-41ab-8936-5ed8a9ebfd26",
   "metadata": {},
   "source": [
    "#### Voting Classifier\n",
    "\n",
    "Voting Classifier work as estimator that combine predictions from multiple models and learns from these individual models to make a final prediction.\n",
    "\n",
    "[doc](https://scikit-learn.org/stable/modules/generated/sklearn.ensemble.VotingClassifier.html)\n"
   ]
  },
  {
   "cell_type": "code",
   "execution_count": 55,
   "id": "f5c5b9eb-88d7-4c1a-8ac8-b5a93df55b4e",
   "metadata": {},
   "outputs": [
    {
     "name": "stderr",
     "output_type": "stream",
     "text": [
      "[Parallel(n_jobs=-1)]: Using backend ThreadingBackend with 8 concurrent workers.\n",
      "[Parallel(n_jobs=-1)]: Done  34 tasks      | elapsed:    1.4s\n",
      "[Parallel(n_jobs=-1)]: Done  50 out of  50 | elapsed:    1.9s finished\n"
     ]
    },
    {
     "data": {
      "text/html": [
       "<style>#sk-container-id-1 {\n",
       "  /* Definition of color scheme common for light and dark mode */\n",
       "  --sklearn-color-text: black;\n",
       "  --sklearn-color-line: gray;\n",
       "  /* Definition of color scheme for unfitted estimators */\n",
       "  --sklearn-color-unfitted-level-0: #fff5e6;\n",
       "  --sklearn-color-unfitted-level-1: #f6e4d2;\n",
       "  --sklearn-color-unfitted-level-2: #ffe0b3;\n",
       "  --sklearn-color-unfitted-level-3: chocolate;\n",
       "  /* Definition of color scheme for fitted estimators */\n",
       "  --sklearn-color-fitted-level-0: #f0f8ff;\n",
       "  --sklearn-color-fitted-level-1: #d4ebff;\n",
       "  --sklearn-color-fitted-level-2: #b3dbfd;\n",
       "  --sklearn-color-fitted-level-3: cornflowerblue;\n",
       "\n",
       "  /* Specific color for light theme */\n",
       "  --sklearn-color-text-on-default-background: var(--sg-text-color, var(--theme-code-foreground, var(--jp-content-font-color1, black)));\n",
       "  --sklearn-color-background: var(--sg-background-color, var(--theme-background, var(--jp-layout-color0, white)));\n",
       "  --sklearn-color-border-box: var(--sg-text-color, var(--theme-code-foreground, var(--jp-content-font-color1, black)));\n",
       "  --sklearn-color-icon: #696969;\n",
       "\n",
       "  @media (prefers-color-scheme: dark) {\n",
       "    /* Redefinition of color scheme for dark theme */\n",
       "    --sklearn-color-text-on-default-background: var(--sg-text-color, var(--theme-code-foreground, var(--jp-content-font-color1, white)));\n",
       "    --sklearn-color-background: var(--sg-background-color, var(--theme-background, var(--jp-layout-color0, #111)));\n",
       "    --sklearn-color-border-box: var(--sg-text-color, var(--theme-code-foreground, var(--jp-content-font-color1, white)));\n",
       "    --sklearn-color-icon: #878787;\n",
       "  }\n",
       "}\n",
       "\n",
       "#sk-container-id-1 {\n",
       "  color: var(--sklearn-color-text);\n",
       "}\n",
       "\n",
       "#sk-container-id-1 pre {\n",
       "  padding: 0;\n",
       "}\n",
       "\n",
       "#sk-container-id-1 input.sk-hidden--visually {\n",
       "  border: 0;\n",
       "  clip: rect(1px 1px 1px 1px);\n",
       "  clip: rect(1px, 1px, 1px, 1px);\n",
       "  height: 1px;\n",
       "  margin: -1px;\n",
       "  overflow: hidden;\n",
       "  padding: 0;\n",
       "  position: absolute;\n",
       "  width: 1px;\n",
       "}\n",
       "\n",
       "#sk-container-id-1 div.sk-dashed-wrapped {\n",
       "  border: 1px dashed var(--sklearn-color-line);\n",
       "  margin: 0 0.4em 0.5em 0.4em;\n",
       "  box-sizing: border-box;\n",
       "  padding-bottom: 0.4em;\n",
       "  background-color: var(--sklearn-color-background);\n",
       "}\n",
       "\n",
       "#sk-container-id-1 div.sk-container {\n",
       "  /* jupyter's `normalize.less` sets `[hidden] { display: none; }`\n",
       "     but bootstrap.min.css set `[hidden] { display: none !important; }`\n",
       "     so we also need the `!important` here to be able to override the\n",
       "     default hidden behavior on the sphinx rendered scikit-learn.org.\n",
       "     See: https://github.com/scikit-learn/scikit-learn/issues/21755 */\n",
       "  display: inline-block !important;\n",
       "  position: relative;\n",
       "}\n",
       "\n",
       "#sk-container-id-1 div.sk-text-repr-fallback {\n",
       "  display: none;\n",
       "}\n",
       "\n",
       "div.sk-parallel-item,\n",
       "div.sk-serial,\n",
       "div.sk-item {\n",
       "  /* draw centered vertical line to link estimators */\n",
       "  background-image: linear-gradient(var(--sklearn-color-text-on-default-background), var(--sklearn-color-text-on-default-background));\n",
       "  background-size: 2px 100%;\n",
       "  background-repeat: no-repeat;\n",
       "  background-position: center center;\n",
       "}\n",
       "\n",
       "/* Parallel-specific style estimator block */\n",
       "\n",
       "#sk-container-id-1 div.sk-parallel-item::after {\n",
       "  content: \"\";\n",
       "  width: 100%;\n",
       "  border-bottom: 2px solid var(--sklearn-color-text-on-default-background);\n",
       "  flex-grow: 1;\n",
       "}\n",
       "\n",
       "#sk-container-id-1 div.sk-parallel {\n",
       "  display: flex;\n",
       "  align-items: stretch;\n",
       "  justify-content: center;\n",
       "  background-color: var(--sklearn-color-background);\n",
       "  position: relative;\n",
       "}\n",
       "\n",
       "#sk-container-id-1 div.sk-parallel-item {\n",
       "  display: flex;\n",
       "  flex-direction: column;\n",
       "}\n",
       "\n",
       "#sk-container-id-1 div.sk-parallel-item:first-child::after {\n",
       "  align-self: flex-end;\n",
       "  width: 50%;\n",
       "}\n",
       "\n",
       "#sk-container-id-1 div.sk-parallel-item:last-child::after {\n",
       "  align-self: flex-start;\n",
       "  width: 50%;\n",
       "}\n",
       "\n",
       "#sk-container-id-1 div.sk-parallel-item:only-child::after {\n",
       "  width: 0;\n",
       "}\n",
       "\n",
       "/* Serial-specific style estimator block */\n",
       "\n",
       "#sk-container-id-1 div.sk-serial {\n",
       "  display: flex;\n",
       "  flex-direction: column;\n",
       "  align-items: center;\n",
       "  background-color: var(--sklearn-color-background);\n",
       "  padding-right: 1em;\n",
       "  padding-left: 1em;\n",
       "}\n",
       "\n",
       "\n",
       "/* Toggleable style: style used for estimator/Pipeline/ColumnTransformer box that is\n",
       "clickable and can be expanded/collapsed.\n",
       "- Pipeline and ColumnTransformer use this feature and define the default style\n",
       "- Estimators will overwrite some part of the style using the `sk-estimator` class\n",
       "*/\n",
       "\n",
       "/* Pipeline and ColumnTransformer style (default) */\n",
       "\n",
       "#sk-container-id-1 div.sk-toggleable {\n",
       "  /* Default theme specific background. It is overwritten whether we have a\n",
       "  specific estimator or a Pipeline/ColumnTransformer */\n",
       "  background-color: var(--sklearn-color-background);\n",
       "}\n",
       "\n",
       "/* Toggleable label */\n",
       "#sk-container-id-1 label.sk-toggleable__label {\n",
       "  cursor: pointer;\n",
       "  display: block;\n",
       "  width: 100%;\n",
       "  margin-bottom: 0;\n",
       "  padding: 0.5em;\n",
       "  box-sizing: border-box;\n",
       "  text-align: center;\n",
       "}\n",
       "\n",
       "#sk-container-id-1 label.sk-toggleable__label-arrow:before {\n",
       "  /* Arrow on the left of the label */\n",
       "  content: \"▸\";\n",
       "  float: left;\n",
       "  margin-right: 0.25em;\n",
       "  color: var(--sklearn-color-icon);\n",
       "}\n",
       "\n",
       "#sk-container-id-1 label.sk-toggleable__label-arrow:hover:before {\n",
       "  color: var(--sklearn-color-text);\n",
       "}\n",
       "\n",
       "/* Toggleable content - dropdown */\n",
       "\n",
       "#sk-container-id-1 div.sk-toggleable__content {\n",
       "  max-height: 0;\n",
       "  max-width: 0;\n",
       "  overflow: hidden;\n",
       "  text-align: left;\n",
       "  /* unfitted */\n",
       "  background-color: var(--sklearn-color-unfitted-level-0);\n",
       "}\n",
       "\n",
       "#sk-container-id-1 div.sk-toggleable__content.fitted {\n",
       "  /* fitted */\n",
       "  background-color: var(--sklearn-color-fitted-level-0);\n",
       "}\n",
       "\n",
       "#sk-container-id-1 div.sk-toggleable__content pre {\n",
       "  margin: 0.2em;\n",
       "  border-radius: 0.25em;\n",
       "  color: var(--sklearn-color-text);\n",
       "  /* unfitted */\n",
       "  background-color: var(--sklearn-color-unfitted-level-0);\n",
       "}\n",
       "\n",
       "#sk-container-id-1 div.sk-toggleable__content.fitted pre {\n",
       "  /* unfitted */\n",
       "  background-color: var(--sklearn-color-fitted-level-0);\n",
       "}\n",
       "\n",
       "#sk-container-id-1 input.sk-toggleable__control:checked~div.sk-toggleable__content {\n",
       "  /* Expand drop-down */\n",
       "  max-height: 200px;\n",
       "  max-width: 100%;\n",
       "  overflow: auto;\n",
       "}\n",
       "\n",
       "#sk-container-id-1 input.sk-toggleable__control:checked~label.sk-toggleable__label-arrow:before {\n",
       "  content: \"▾\";\n",
       "}\n",
       "\n",
       "/* Pipeline/ColumnTransformer-specific style */\n",
       "\n",
       "#sk-container-id-1 div.sk-label input.sk-toggleable__control:checked~label.sk-toggleable__label {\n",
       "  color: var(--sklearn-color-text);\n",
       "  background-color: var(--sklearn-color-unfitted-level-2);\n",
       "}\n",
       "\n",
       "#sk-container-id-1 div.sk-label.fitted input.sk-toggleable__control:checked~label.sk-toggleable__label {\n",
       "  background-color: var(--sklearn-color-fitted-level-2);\n",
       "}\n",
       "\n",
       "/* Estimator-specific style */\n",
       "\n",
       "/* Colorize estimator box */\n",
       "#sk-container-id-1 div.sk-estimator input.sk-toggleable__control:checked~label.sk-toggleable__label {\n",
       "  /* unfitted */\n",
       "  background-color: var(--sklearn-color-unfitted-level-2);\n",
       "}\n",
       "\n",
       "#sk-container-id-1 div.sk-estimator.fitted input.sk-toggleable__control:checked~label.sk-toggleable__label {\n",
       "  /* fitted */\n",
       "  background-color: var(--sklearn-color-fitted-level-2);\n",
       "}\n",
       "\n",
       "#sk-container-id-1 div.sk-label label.sk-toggleable__label,\n",
       "#sk-container-id-1 div.sk-label label {\n",
       "  /* The background is the default theme color */\n",
       "  color: var(--sklearn-color-text-on-default-background);\n",
       "}\n",
       "\n",
       "/* On hover, darken the color of the background */\n",
       "#sk-container-id-1 div.sk-label:hover label.sk-toggleable__label {\n",
       "  color: var(--sklearn-color-text);\n",
       "  background-color: var(--sklearn-color-unfitted-level-2);\n",
       "}\n",
       "\n",
       "/* Label box, darken color on hover, fitted */\n",
       "#sk-container-id-1 div.sk-label.fitted:hover label.sk-toggleable__label.fitted {\n",
       "  color: var(--sklearn-color-text);\n",
       "  background-color: var(--sklearn-color-fitted-level-2);\n",
       "}\n",
       "\n",
       "/* Estimator label */\n",
       "\n",
       "#sk-container-id-1 div.sk-label label {\n",
       "  font-family: monospace;\n",
       "  font-weight: bold;\n",
       "  display: inline-block;\n",
       "  line-height: 1.2em;\n",
       "}\n",
       "\n",
       "#sk-container-id-1 div.sk-label-container {\n",
       "  text-align: center;\n",
       "}\n",
       "\n",
       "/* Estimator-specific */\n",
       "#sk-container-id-1 div.sk-estimator {\n",
       "  font-family: monospace;\n",
       "  border: 1px dotted var(--sklearn-color-border-box);\n",
       "  border-radius: 0.25em;\n",
       "  box-sizing: border-box;\n",
       "  margin-bottom: 0.5em;\n",
       "  /* unfitted */\n",
       "  background-color: var(--sklearn-color-unfitted-level-0);\n",
       "}\n",
       "\n",
       "#sk-container-id-1 div.sk-estimator.fitted {\n",
       "  /* fitted */\n",
       "  background-color: var(--sklearn-color-fitted-level-0);\n",
       "}\n",
       "\n",
       "/* on hover */\n",
       "#sk-container-id-1 div.sk-estimator:hover {\n",
       "  /* unfitted */\n",
       "  background-color: var(--sklearn-color-unfitted-level-2);\n",
       "}\n",
       "\n",
       "#sk-container-id-1 div.sk-estimator.fitted:hover {\n",
       "  /* fitted */\n",
       "  background-color: var(--sklearn-color-fitted-level-2);\n",
       "}\n",
       "\n",
       "/* Specification for estimator info (e.g. \"i\" and \"?\") */\n",
       "\n",
       "/* Common style for \"i\" and \"?\" */\n",
       "\n",
       ".sk-estimator-doc-link,\n",
       "a:link.sk-estimator-doc-link,\n",
       "a:visited.sk-estimator-doc-link {\n",
       "  float: right;\n",
       "  font-size: smaller;\n",
       "  line-height: 1em;\n",
       "  font-family: monospace;\n",
       "  background-color: var(--sklearn-color-background);\n",
       "  border-radius: 1em;\n",
       "  height: 1em;\n",
       "  width: 1em;\n",
       "  text-decoration: none !important;\n",
       "  margin-left: 1ex;\n",
       "  /* unfitted */\n",
       "  border: var(--sklearn-color-unfitted-level-1) 1pt solid;\n",
       "  color: var(--sklearn-color-unfitted-level-1);\n",
       "}\n",
       "\n",
       ".sk-estimator-doc-link.fitted,\n",
       "a:link.sk-estimator-doc-link.fitted,\n",
       "a:visited.sk-estimator-doc-link.fitted {\n",
       "  /* fitted */\n",
       "  border: var(--sklearn-color-fitted-level-1) 1pt solid;\n",
       "  color: var(--sklearn-color-fitted-level-1);\n",
       "}\n",
       "\n",
       "/* On hover */\n",
       "div.sk-estimator:hover .sk-estimator-doc-link:hover,\n",
       ".sk-estimator-doc-link:hover,\n",
       "div.sk-label-container:hover .sk-estimator-doc-link:hover,\n",
       ".sk-estimator-doc-link:hover {\n",
       "  /* unfitted */\n",
       "  background-color: var(--sklearn-color-unfitted-level-3);\n",
       "  color: var(--sklearn-color-background);\n",
       "  text-decoration: none;\n",
       "}\n",
       "\n",
       "div.sk-estimator.fitted:hover .sk-estimator-doc-link.fitted:hover,\n",
       ".sk-estimator-doc-link.fitted:hover,\n",
       "div.sk-label-container:hover .sk-estimator-doc-link.fitted:hover,\n",
       ".sk-estimator-doc-link.fitted:hover {\n",
       "  /* fitted */\n",
       "  background-color: var(--sklearn-color-fitted-level-3);\n",
       "  color: var(--sklearn-color-background);\n",
       "  text-decoration: none;\n",
       "}\n",
       "\n",
       "/* Span, style for the box shown on hovering the info icon */\n",
       ".sk-estimator-doc-link span {\n",
       "  display: none;\n",
       "  z-index: 9999;\n",
       "  position: relative;\n",
       "  font-weight: normal;\n",
       "  right: .2ex;\n",
       "  padding: .5ex;\n",
       "  margin: .5ex;\n",
       "  width: min-content;\n",
       "  min-width: 20ex;\n",
       "  max-width: 50ex;\n",
       "  color: var(--sklearn-color-text);\n",
       "  box-shadow: 2pt 2pt 4pt #999;\n",
       "  /* unfitted */\n",
       "  background: var(--sklearn-color-unfitted-level-0);\n",
       "  border: .5pt solid var(--sklearn-color-unfitted-level-3);\n",
       "}\n",
       "\n",
       ".sk-estimator-doc-link.fitted span {\n",
       "  /* fitted */\n",
       "  background: var(--sklearn-color-fitted-level-0);\n",
       "  border: var(--sklearn-color-fitted-level-3);\n",
       "}\n",
       "\n",
       ".sk-estimator-doc-link:hover span {\n",
       "  display: block;\n",
       "}\n",
       "\n",
       "/* \"?\"-specific style due to the `<a>` HTML tag */\n",
       "\n",
       "#sk-container-id-1 a.estimator_doc_link {\n",
       "  float: right;\n",
       "  font-size: 1rem;\n",
       "  line-height: 1em;\n",
       "  font-family: monospace;\n",
       "  background-color: var(--sklearn-color-background);\n",
       "  border-radius: 1rem;\n",
       "  height: 1rem;\n",
       "  width: 1rem;\n",
       "  text-decoration: none;\n",
       "  /* unfitted */\n",
       "  color: var(--sklearn-color-unfitted-level-1);\n",
       "  border: var(--sklearn-color-unfitted-level-1) 1pt solid;\n",
       "}\n",
       "\n",
       "#sk-container-id-1 a.estimator_doc_link.fitted {\n",
       "  /* fitted */\n",
       "  border: var(--sklearn-color-fitted-level-1) 1pt solid;\n",
       "  color: var(--sklearn-color-fitted-level-1);\n",
       "}\n",
       "\n",
       "/* On hover */\n",
       "#sk-container-id-1 a.estimator_doc_link:hover {\n",
       "  /* unfitted */\n",
       "  background-color: var(--sklearn-color-unfitted-level-3);\n",
       "  color: var(--sklearn-color-background);\n",
       "  text-decoration: none;\n",
       "}\n",
       "\n",
       "#sk-container-id-1 a.estimator_doc_link.fitted:hover {\n",
       "  /* fitted */\n",
       "  background-color: var(--sklearn-color-fitted-level-3);\n",
       "}\n",
       "</style><div id=\"sk-container-id-1\" class=\"sk-top-container\"><div class=\"sk-text-repr-fallback\"><pre>VotingClassifier(estimators=[(&#x27;RFC&#x27;,\n",
       "                              Pipeline(steps=[(&#x27;vectorizer&#x27;, CountVectorizer()),\n",
       "                                              (&#x27;classifier&#x27;,\n",
       "                                               RandomForestClassifier(n_estimators=50,\n",
       "                                                                      n_jobs=-1,\n",
       "                                                                      random_state=42,\n",
       "                                                                      verbose=1))])),\n",
       "                             (&#x27;Logistics Regression&#x27;,\n",
       "                              Pipeline(steps=[(&#x27;vectorizer&#x27;, CountVectorizer()),\n",
       "                                              (&#x27;classifier&#x27;,\n",
       "                                               LogisticRegression(max_iter=1000,\n",
       "                                                                  random_state=42))])),\n",
       "                             (&#x27;SVM&#x27;,\n",
       "                              Pipeline(steps=[(&#x27;vectorizer&#x27;, CountVectorizer()),\n",
       "                                              (&#x27;svm&#x27;,\n",
       "                                               SVC(C=0.5, gamma=1,\n",
       "                                                   kernel=&#x27;linear&#x27;,\n",
       "                                                   random_state=42))])),\n",
       "                             (&#x27;MNB&#x27;,\n",
       "                              Pipeline(steps=[(&#x27;vectorizer&#x27;, CountVectorizer()),\n",
       "                                              (&#x27;classifier&#x27;,\n",
       "                                               MultinomialNB())]))])</pre><b>In a Jupyter environment, please rerun this cell to show the HTML representation or trust the notebook. <br />On GitHub, the HTML representation is unable to render, please try loading this page with nbviewer.org.</b></div><div class=\"sk-container\" hidden><div class=\"sk-item sk-dashed-wrapped\"><div class=\"sk-label-container\"><div class=\"sk-label fitted sk-toggleable\"><input class=\"sk-toggleable__control sk-hidden--visually\" id=\"sk-estimator-id-1\" type=\"checkbox\" ><label for=\"sk-estimator-id-1\" class=\"sk-toggleable__label fitted sk-toggleable__label-arrow fitted\">&nbsp;&nbsp;VotingClassifier<a class=\"sk-estimator-doc-link fitted\" rel=\"noreferrer\" target=\"_blank\" href=\"https://scikit-learn.org/1.4/modules/generated/sklearn.ensemble.VotingClassifier.html\">?<span>Documentation for VotingClassifier</span></a><span class=\"sk-estimator-doc-link fitted\">i<span>Fitted</span></span></label><div class=\"sk-toggleable__content fitted\"><pre>VotingClassifier(estimators=[(&#x27;RFC&#x27;,\n",
       "                              Pipeline(steps=[(&#x27;vectorizer&#x27;, CountVectorizer()),\n",
       "                                              (&#x27;classifier&#x27;,\n",
       "                                               RandomForestClassifier(n_estimators=50,\n",
       "                                                                      n_jobs=-1,\n",
       "                                                                      random_state=42,\n",
       "                                                                      verbose=1))])),\n",
       "                             (&#x27;Logistics Regression&#x27;,\n",
       "                              Pipeline(steps=[(&#x27;vectorizer&#x27;, CountVectorizer()),\n",
       "                                              (&#x27;classifier&#x27;,\n",
       "                                               LogisticRegression(max_iter=1000,\n",
       "                                                                  random_state=42))])),\n",
       "                             (&#x27;SVM&#x27;,\n",
       "                              Pipeline(steps=[(&#x27;vectorizer&#x27;, CountVectorizer()),\n",
       "                                              (&#x27;svm&#x27;,\n",
       "                                               SVC(C=0.5, gamma=1,\n",
       "                                                   kernel=&#x27;linear&#x27;,\n",
       "                                                   random_state=42))])),\n",
       "                             (&#x27;MNB&#x27;,\n",
       "                              Pipeline(steps=[(&#x27;vectorizer&#x27;, CountVectorizer()),\n",
       "                                              (&#x27;classifier&#x27;,\n",
       "                                               MultinomialNB())]))])</pre></div> </div></div><div class=\"sk-parallel\"><div class=\"sk-parallel-item\"><div class=\"sk-item\"><div class=\"sk-label-container\"><div class=\"sk-label fitted sk-toggleable\"><label>RFC</label></div></div><div class=\"sk-serial\"><div class=\"sk-item\"><div class=\"sk-serial\"><div class=\"sk-item\"><div class=\"sk-estimator fitted sk-toggleable\"><input class=\"sk-toggleable__control sk-hidden--visually\" id=\"sk-estimator-id-2\" type=\"checkbox\" ><label for=\"sk-estimator-id-2\" class=\"sk-toggleable__label fitted sk-toggleable__label-arrow fitted\">&nbsp;CountVectorizer<a class=\"sk-estimator-doc-link fitted\" rel=\"noreferrer\" target=\"_blank\" href=\"https://scikit-learn.org/1.4/modules/generated/sklearn.feature_extraction.text.CountVectorizer.html\">?<span>Documentation for CountVectorizer</span></a></label><div class=\"sk-toggleable__content fitted\"><pre>CountVectorizer()</pre></div> </div></div><div class=\"sk-item\"><div class=\"sk-estimator fitted sk-toggleable\"><input class=\"sk-toggleable__control sk-hidden--visually\" id=\"sk-estimator-id-3\" type=\"checkbox\" ><label for=\"sk-estimator-id-3\" class=\"sk-toggleable__label fitted sk-toggleable__label-arrow fitted\">&nbsp;RandomForestClassifier<a class=\"sk-estimator-doc-link fitted\" rel=\"noreferrer\" target=\"_blank\" href=\"https://scikit-learn.org/1.4/modules/generated/sklearn.ensemble.RandomForestClassifier.html\">?<span>Documentation for RandomForestClassifier</span></a></label><div class=\"sk-toggleable__content fitted\"><pre>RandomForestClassifier(n_estimators=50, n_jobs=-1, random_state=42, verbose=1)</pre></div> </div></div></div></div></div></div></div><div class=\"sk-parallel-item\"><div class=\"sk-item\"><div class=\"sk-label-container\"><div class=\"sk-label fitted sk-toggleable\"><label>Logistics Regression</label></div></div><div class=\"sk-serial\"><div class=\"sk-item\"><div class=\"sk-serial\"><div class=\"sk-item\"><div class=\"sk-estimator fitted sk-toggleable\"><input class=\"sk-toggleable__control sk-hidden--visually\" id=\"sk-estimator-id-4\" type=\"checkbox\" ><label for=\"sk-estimator-id-4\" class=\"sk-toggleable__label fitted sk-toggleable__label-arrow fitted\">&nbsp;CountVectorizer<a class=\"sk-estimator-doc-link fitted\" rel=\"noreferrer\" target=\"_blank\" href=\"https://scikit-learn.org/1.4/modules/generated/sklearn.feature_extraction.text.CountVectorizer.html\">?<span>Documentation for CountVectorizer</span></a></label><div class=\"sk-toggleable__content fitted\"><pre>CountVectorizer()</pre></div> </div></div><div class=\"sk-item\"><div class=\"sk-estimator fitted sk-toggleable\"><input class=\"sk-toggleable__control sk-hidden--visually\" id=\"sk-estimator-id-5\" type=\"checkbox\" ><label for=\"sk-estimator-id-5\" class=\"sk-toggleable__label fitted sk-toggleable__label-arrow fitted\">&nbsp;LogisticRegression<a class=\"sk-estimator-doc-link fitted\" rel=\"noreferrer\" target=\"_blank\" href=\"https://scikit-learn.org/1.4/modules/generated/sklearn.linear_model.LogisticRegression.html\">?<span>Documentation for LogisticRegression</span></a></label><div class=\"sk-toggleable__content fitted\"><pre>LogisticRegression(max_iter=1000, random_state=42)</pre></div> </div></div></div></div></div></div></div><div class=\"sk-parallel-item\"><div class=\"sk-item\"><div class=\"sk-label-container\"><div class=\"sk-label fitted sk-toggleable\"><label>SVM</label></div></div><div class=\"sk-serial\"><div class=\"sk-item\"><div class=\"sk-serial\"><div class=\"sk-item\"><div class=\"sk-estimator fitted sk-toggleable\"><input class=\"sk-toggleable__control sk-hidden--visually\" id=\"sk-estimator-id-6\" type=\"checkbox\" ><label for=\"sk-estimator-id-6\" class=\"sk-toggleable__label fitted sk-toggleable__label-arrow fitted\">&nbsp;CountVectorizer<a class=\"sk-estimator-doc-link fitted\" rel=\"noreferrer\" target=\"_blank\" href=\"https://scikit-learn.org/1.4/modules/generated/sklearn.feature_extraction.text.CountVectorizer.html\">?<span>Documentation for CountVectorizer</span></a></label><div class=\"sk-toggleable__content fitted\"><pre>CountVectorizer()</pre></div> </div></div><div class=\"sk-item\"><div class=\"sk-estimator fitted sk-toggleable\"><input class=\"sk-toggleable__control sk-hidden--visually\" id=\"sk-estimator-id-7\" type=\"checkbox\" ><label for=\"sk-estimator-id-7\" class=\"sk-toggleable__label fitted sk-toggleable__label-arrow fitted\">&nbsp;SVC<a class=\"sk-estimator-doc-link fitted\" rel=\"noreferrer\" target=\"_blank\" href=\"https://scikit-learn.org/1.4/modules/generated/sklearn.svm.SVC.html\">?<span>Documentation for SVC</span></a></label><div class=\"sk-toggleable__content fitted\"><pre>SVC(C=0.5, gamma=1, kernel=&#x27;linear&#x27;, random_state=42)</pre></div> </div></div></div></div></div></div></div><div class=\"sk-parallel-item\"><div class=\"sk-item\"><div class=\"sk-label-container\"><div class=\"sk-label fitted sk-toggleable\"><label>MNB</label></div></div><div class=\"sk-serial\"><div class=\"sk-item\"><div class=\"sk-serial\"><div class=\"sk-item\"><div class=\"sk-estimator fitted sk-toggleable\"><input class=\"sk-toggleable__control sk-hidden--visually\" id=\"sk-estimator-id-8\" type=\"checkbox\" ><label for=\"sk-estimator-id-8\" class=\"sk-toggleable__label fitted sk-toggleable__label-arrow fitted\">&nbsp;CountVectorizer<a class=\"sk-estimator-doc-link fitted\" rel=\"noreferrer\" target=\"_blank\" href=\"https://scikit-learn.org/1.4/modules/generated/sklearn.feature_extraction.text.CountVectorizer.html\">?<span>Documentation for CountVectorizer</span></a></label><div class=\"sk-toggleable__content fitted\"><pre>CountVectorizer()</pre></div> </div></div><div class=\"sk-item\"><div class=\"sk-estimator fitted sk-toggleable\"><input class=\"sk-toggleable__control sk-hidden--visually\" id=\"sk-estimator-id-9\" type=\"checkbox\" ><label for=\"sk-estimator-id-9\" class=\"sk-toggleable__label fitted sk-toggleable__label-arrow fitted\">&nbsp;MultinomialNB<a class=\"sk-estimator-doc-link fitted\" rel=\"noreferrer\" target=\"_blank\" href=\"https://scikit-learn.org/1.4/modules/generated/sklearn.naive_bayes.MultinomialNB.html\">?<span>Documentation for MultinomialNB</span></a></label><div class=\"sk-toggleable__content fitted\"><pre>MultinomialNB()</pre></div> </div></div></div></div></div></div></div></div></div></div></div>"
      ],
      "text/plain": [
       "VotingClassifier(estimators=[('RFC',\n",
       "                              Pipeline(steps=[('vectorizer', CountVectorizer()),\n",
       "                                              ('classifier',\n",
       "                                               RandomForestClassifier(n_estimators=50,\n",
       "                                                                      n_jobs=-1,\n",
       "                                                                      random_state=42,\n",
       "                                                                      verbose=1))])),\n",
       "                             ('Logistics Regression',\n",
       "                              Pipeline(steps=[('vectorizer', CountVectorizer()),\n",
       "                                              ('classifier',\n",
       "                                               LogisticRegression(max_iter=1000,\n",
       "                                                                  random_state=42))])),\n",
       "                             ('SVM',\n",
       "                              Pipeline(steps=[('vectorizer', CountVectorizer()),\n",
       "                                              ('svm',\n",
       "                                               SVC(C=0.5, gamma=1,\n",
       "                                                   kernel='linear',\n",
       "                                                   random_state=42))])),\n",
       "                             ('MNB',\n",
       "                              Pipeline(steps=[('vectorizer', CountVectorizer()),\n",
       "                                              ('classifier',\n",
       "                                               MultinomialNB())]))])"
      ]
     },
     "execution_count": 55,
     "metadata": {},
     "output_type": "execute_result"
    }
   ],
   "source": [
    "from sklearn.ensemble import VotingClassifier\n",
    "\n",
    "estimators=[\n",
    "        (\"RFC\", pipeline),\n",
    "        (\"Logistics Regression\", logs_pipeline),\n",
    "        (\"SVM\", svm_pipeline),\n",
    "        (\"MNB\", mnb_pipeline),\n",
    "]\n",
    "\n",
    "voting_classifier = VotingClassifier(estimators, voting='hard')\n",
    "voting_classifier.fit(train_df_res_.values, y_res.values)"
   ]
  },
  {
   "cell_type": "code",
   "execution_count": 56,
   "id": "abbfcae7-6361-4891-b982-4941343d1906",
   "metadata": {},
   "outputs": [
    {
     "name": "stderr",
     "output_type": "stream",
     "text": [
      "[Parallel(n_jobs=8)]: Using backend ThreadingBackend with 8 concurrent workers.\n",
      "[Parallel(n_jobs=8)]: Done  34 tasks      | elapsed:    0.1s\n",
      "[Parallel(n_jobs=8)]: Done  50 out of  50 | elapsed:    0.2s finished\n"
     ]
    },
    {
     "name": "stdout",
     "output_type": "stream",
     "text": [
      "VC -- Train accuracy: 0.9919496647983295\n"
     ]
    },
    {
     "name": "stderr",
     "output_type": "stream",
     "text": [
      "[Parallel(n_jobs=8)]: Using backend ThreadingBackend with 8 concurrent workers.\n",
      "[Parallel(n_jobs=8)]: Done  34 tasks      | elapsed:    0.0s\n",
      "[Parallel(n_jobs=8)]: Done  50 out of  50 | elapsed:    0.0s finished\n"
     ]
    },
    {
     "name": "stdout",
     "output_type": "stream",
     "text": [
      "VC -- Test accuracy: 0.8845\n"
     ]
    }
   ],
   "source": [
    "# train acc\n",
    "train_pred = voting_classifier.predict(train_df_res_.values)\n",
    "train_accuracy = accuracy_score(y_res.values, train_pred)\n",
    "print(\"VC -- Train accuracy:\", train_accuracy)\n",
    "\n",
    "# test acc\n",
    "test_pred = voting_classifier.predict(x_test_procceced)\n",
    "test_accuracy = accuracy_score(test_df['Emotion'], test_pred)\n",
    "print(\"VC -- Test accuracy:\", test_accuracy)"
   ]
  },
  {
   "cell_type": "markdown",
   "id": "679d0bdd-147d-44de-9aad-ec5532e70119",
   "metadata": {},
   "source": [
    "#### Prediction"
   ]
  },
  {
   "cell_type": "code",
   "execution_count": 57,
   "id": "86908adc-3e60-4557-932d-24193d8b789b",
   "metadata": {},
   "outputs": [
    {
     "name": "stdout",
     "output_type": "stream",
     "text": [
      "Predicted Emotion: ['joy']\n"
     ]
    },
    {
     "name": "stderr",
     "output_type": "stream",
     "text": [
      "[Parallel(n_jobs=8)]: Using backend ThreadingBackend with 8 concurrent workers.\n",
      "[Parallel(n_jobs=8)]: Done  34 tasks      | elapsed:    0.0s\n",
      "[Parallel(n_jobs=8)]: Done  50 out of  50 | elapsed:    0.0s finished\n"
     ]
    }
   ],
   "source": [
    "sample_text = \"I'm feeling happy and excited today\"\n",
    "predicted_emotion = voting_classifier.predict([sample_text])\n",
    "print(\"Predicted Emotion:\", predicted_emotion)"
   ]
  },
  {
   "cell_type": "code",
   "execution_count": 58,
   "id": "c3a6d333-2882-4592-9418-f42de039dab2",
   "metadata": {},
   "outputs": [
    {
     "name": "stdout",
     "output_type": "stream",
     "text": [
      "Predicted Emotion: ['fear']\n"
     ]
    },
    {
     "name": "stderr",
     "output_type": "stream",
     "text": [
      "[Parallel(n_jobs=8)]: Using backend ThreadingBackend with 8 concurrent workers.\n",
      "[Parallel(n_jobs=8)]: Done  34 tasks      | elapsed:    0.0s\n",
      "[Parallel(n_jobs=8)]: Done  50 out of  50 | elapsed:    0.0s finished\n"
     ]
    }
   ],
   "source": [
    "sample_text = \"feeling scared and the rage filled im mad at me\"\n",
    "predicted_emotion = voting_classifier.predict([sample_text])\n",
    "print(\"Predicted Emotion:\", predicted_emotion)"
   ]
  },
  {
   "cell_type": "code",
   "execution_count": 59,
   "id": "e816df42-e66e-46a7-b8f0-16ee4262baa9",
   "metadata": {},
   "outputs": [
    {
     "name": "stdout",
     "output_type": "stream",
     "text": [
      "Predicted Emotion: ['love']\n"
     ]
    },
    {
     "name": "stderr",
     "output_type": "stream",
     "text": [
      "[Parallel(n_jobs=8)]: Using backend ThreadingBackend with 8 concurrent workers.\n",
      "[Parallel(n_jobs=8)]: Done  34 tasks      | elapsed:    0.0s\n",
      "[Parallel(n_jobs=8)]: Done  50 out of  50 | elapsed:    0.0s finished\n"
     ]
    }
   ],
   "source": [
    "sample_text = \"they were gentle reminders that while god hasnt always promised an easy road he has promised to be with us\"\n",
    "predicted_emotion = voting_classifier.predict([sample_text])\n",
    "print(\"Predicted Emotion:\", predicted_emotion)"
   ]
  },
  {
   "cell_type": "code",
   "execution_count": 60,
   "id": "2b786f7b-bce3-4b56-b6a1-9f70b57806da",
   "metadata": {},
   "outputs": [
    {
     "name": "stdout",
     "output_type": "stream",
     "text": [
      "Predicted Emotion: ['sadness']\n"
     ]
    },
    {
     "name": "stderr",
     "output_type": "stream",
     "text": [
      "[Parallel(n_jobs=8)]: Using backend ThreadingBackend with 8 concurrent workers.\n",
      "[Parallel(n_jobs=8)]: Done  34 tasks      | elapsed:    0.0s\n",
      "[Parallel(n_jobs=8)]: Done  50 out of  50 | elapsed:    0.0s finished\n"
     ]
    }
   ],
   "source": [
    "sample_text = \"my room is messy if theyre open\"\n",
    "predicted_emotion = voting_classifier.predict([sample_text])\n",
    "print(\"Predicted Emotion:\", predicted_emotion)"
   ]
  },
  {
   "cell_type": "code",
   "execution_count": null,
   "id": "3a43f218-792a-4626-8fc2-504be7b9b329",
   "metadata": {},
   "outputs": [],
   "source": []
  }
 ],
 "metadata": {
  "kernelspec": {
   "display_name": "Python 3 (ipykernel)",
   "language": "python",
   "name": "python3"
  },
  "language_info": {
   "codemirror_mode": {
    "name": "ipython",
    "version": 3
   },
   "file_extension": ".py",
   "mimetype": "text/x-python",
   "name": "python",
   "nbconvert_exporter": "python",
   "pygments_lexer": "ipython3",
   "version": "3.12.3"
  }
 },
 "nbformat": 4,
 "nbformat_minor": 5
}
